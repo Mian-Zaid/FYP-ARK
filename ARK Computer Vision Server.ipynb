{
 "cells": [
  {
   "cell_type": "code",
   "execution_count": 1,
   "metadata": {},
   "outputs": [],
   "source": [
    "from tensorflow import keras"
   ]
  },
  {
   "cell_type": "code",
   "execution_count": 2,
   "metadata": {},
   "outputs": [],
   "source": [
    "arkModel = keras.models.load_model('C:/MLMODEL')"
   ]
  },
  {
   "cell_type": "code",
   "execution_count": 3,
   "metadata": {},
   "outputs": [],
   "source": [
    "from keras.preprocessing import image\n",
    "from keras.applications.resnet50 import preprocess_input\n",
    "import numpy as np"
   ]
  },
  {
   "cell_type": "code",
   "execution_count": 4,
   "metadata": {},
   "outputs": [],
   "source": [
    "import math"
   ]
  },
  {
   "cell_type": "code",
   "execution_count": 5,
   "metadata": {},
   "outputs": [],
   "source": [
    "labels = ['apple','bag', 'cap', 'doll', 'elephant', 'fox', 'giraffe', 'house', 'icecream', 'jamjar', 'kite', 'ladybug', 'monkey', 'nest', 'orange', 'parrot', 'queen', 'rainbow', 'ship', 'tiger', 'umbrella', 'van', 'whale', 'xylophone', 'yoyo', 'zebra', 'one', 'two', 'three', 'four', 'five', 'six', 'seven', 'eight', 'nine', 'ten']"
   ]
  },
  {
   "cell_type": "code",
   "execution_count": 6,
   "metadata": {},
   "outputs": [],
   "source": [
    "import queue\n",
    "result_queue = queue.Queue()\n",
    "\n",
    "def putLabel(img_path):\n",
    "    img = image.load_img(img_path, target_size=(224,224))\n",
    "    x = image.img_to_array(img)\n",
    "    x = np.expand_dims(x, axis=0)\n",
    "    x = preprocess_input(x)\n",
    "    \n",
    "    result = arkModel.predict(x)\n",
    "    ans = result[0]\n",
    "\n",
    "    max_acc = 0\n",
    "    max_index = 0\n",
    "\n",
    "    for i in range(36):\n",
    "        #acc = f'{ans[i]*100:.20f}'\n",
    "        if ans[i]>max_acc:\n",
    "            max_acc = ans[i]\n",
    "            max_index = i\n",
    "        #print(acc)\n",
    "\n",
    "    result_queue.put(labels[max_index]+\":\"+str(round(max_acc*100, 2)))\n",
    "#     prediction_result = result_queue[-1]\n",
    "#     print('[#] Prediction result: ', prediction_result, '%')"
   ]
  },
  {
   "cell_type": "code",
   "execution_count": 7,
   "metadata": {
    "scrolled": true
   },
   "outputs": [],
   "source": [
    "import socket\n",
    "import base64\n",
    "\n",
    "HOST = '172.16.49.223'  # Standard loopback interface address (localhost)\n",
    "PORT = 7919        # Port to listen on (non-privileged ports are > 1023)\n",
    "RES_SENDER_PORT = 7921 # Port to listen on for label requests"
   ]
  },
  {
   "cell_type": "code",
   "execution_count": 8,
   "metadata": {},
   "outputs": [],
   "source": [
    "import threading"
   ]
  },
  {
   "cell_type": "code",
   "execution_count": 9,
   "metadata": {},
   "outputs": [],
   "source": [
    "def listener_thread():\n",
    "    with socket.socket(socket.AF_INET, socket.SOCK_STREAM) as s:\n",
    "        s.bind((HOST, PORT))\n",
    "        s.listen()\n",
    "\n",
    "        print('[+] \\033[1mARK Deep Learning & Computer Vision Server\\033[0m [+]')\n",
    "        print('[~] ============= Status: Active ============= [~]')\n",
    "        print('[-] ========== Waiting for requests ========== [-]')\n",
    "\n",
    "        while True:\n",
    "            conn, addr = s.accept()\n",
    "\n",
    "            base64_image_string = \"\"\n",
    "\n",
    "            with conn:\n",
    "                print('[i] Request received from: ', addr)\n",
    "                while True:\n",
    "                    try:\n",
    "                        data = conn.recv(1024)\n",
    "                        base64_image_string += data.decode('utf-8')\n",
    "\n",
    "                    except Exception as e:\n",
    "                        break\n",
    "                    if not data:\n",
    "                        break\n",
    "\n",
    "                #print(base64_image_string)\n",
    "                with open(\"received_image\", \"wb\") as fh:\n",
    "                    fh.write(base64.decodebytes(str.encode(base64_image_string)))\n",
    "\n",
    "                putLabel(\"received_image\")"
   ]
  },
  {
   "cell_type": "code",
   "execution_count": 10,
   "metadata": {},
   "outputs": [],
   "source": [
    "def result_sender_thread():\n",
    "    with socket.socket(socket.AF_INET, socket.SOCK_STREAM) as s:\n",
    "        s.bind((HOST, RES_SENDER_PORT))\n",
    "        s.listen()\n",
    "\n",
    "        while True:\n",
    "            conn, addr = s.accept()\n",
    "            with conn:\n",
    "                label = result_queue.get()\n",
    "                conn.send(label.encode('utf-8'))"
   ]
  },
  {
   "cell_type": "code",
   "execution_count": 11,
   "metadata": {},
   "outputs": [],
   "source": [
    "listener_thread_instance = threading.Thread(target=listener_thread, args=())\n",
    "sender_thread_instance = threading.Thread(target=result_sender_thread, args=())"
   ]
  },
  {
   "cell_type": "code",
   "execution_count": null,
   "metadata": {},
   "outputs": [
    {
     "name": "stdout",
     "output_type": "stream",
     "text": [
      "[+] \u001b[1mARK Deep Learning & Computer Vision Server\u001b[0m [+]\n",
      "[~] ============= Status: Active ============= [~]\n",
      "[-] ========== Waiting for requests ========== [-]\n",
      "[i] Request received from:  ('172.16.49.203', 43888)\n",
      "[i] Request received from:  ('172.16.49.203', 43896)\n",
      "[i] Request received from:  ('172.16.49.203', 43902)\n",
      "[i] Request received from:  ('172.16.49.203', 43908)\n",
      "[i] Request received from:  ('172.16.49.203', 43914)\n",
      "[i] Request received from:  ('172.16.49.203', 43918)\n",
      "[i] Request received from:  ('172.16.49.203', 43922)\n",
      "[i] Request received from:  ('172.16.49.203', 43928)\n"
     ]
    }
   ],
   "source": [
    "listener_thread_instance.start()\n",
    "sender_thread_instance.start()\n",
    "\n",
    "listener_thread_instance.join()\n",
    "sender_thread_instance.join()"
   ]
  },
  {
   "cell_type": "code",
   "execution_count": null,
   "metadata": {},
   "outputs": [],
   "source": []
  }
 ],
 "metadata": {
  "kernelspec": {
   "display_name": "Python 3",
   "language": "python",
   "name": "python3"
  },
  "language_info": {
   "codemirror_mode": {
    "name": "ipython",
    "version": 3
   },
   "file_extension": ".py",
   "mimetype": "text/x-python",
   "name": "python",
   "nbconvert_exporter": "python",
   "pygments_lexer": "ipython3",
   "version": "3.8.3"
  }
 },
 "nbformat": 4,
 "nbformat_minor": 4
}
